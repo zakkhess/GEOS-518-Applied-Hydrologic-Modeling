{
 "cells": [
  {
   "cell_type": "code",
   "execution_count": 26,
   "metadata": {},
   "outputs": [
    {
     "name": "stdout",
     "output_type": "stream",
     "text": [
      "[[             nan              nan              nan              nan]\n",
      " [  2.01200000e+03   1.00000000e+01   1.00000000e+00   1.33300000e+01]\n",
      " [  2.01200000e+03   1.00000000e+01   2.00000000e+00   1.11100000e+01]\n",
      " ..., \n",
      " [  2.01700000e+03   9.00000000e+00   2.80000000e+01   9.44000000e+00]\n",
      " [  2.01700000e+03   9.00000000e+00   2.90000000e+01   1.16700000e+01]\n",
      " [  2.01700000e+03   9.00000000e+00   3.00000000e+01   6.67000000e+00]]\n"
     ]
    }
   ],
   "source": [
    "import csv\n",
    "import numpy as np\n",
    "\n",
    "data = np.genfromtxt(\"BB_AirT_10_17.csv\", delimiter=',')\n",
    "\n",
    "print(data)\n"
   ]
  }
 ],
 "metadata": {
  "kernelspec": {
   "display_name": "Python 3",
   "language": "python",
   "name": "python3"
  },
  "language_info": {
   "codemirror_mode": {
    "name": "ipython",
    "version": 3
   },
   "file_extension": ".py",
   "mimetype": "text/x-python",
   "name": "python",
   "nbconvert_exporter": "python",
   "pygments_lexer": "ipython3",
   "version": "3.6.1"
  }
 },
 "nbformat": 4,
 "nbformat_minor": 2
}
